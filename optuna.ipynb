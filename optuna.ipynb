{
 "cells": [
  {
   "cell_type": "code",
   "execution_count": 25,
   "metadata": {},
   "outputs": [
    {
     "data": {
      "image/png": "[encoded data removed]",
      "text/plain": [
       "<Figure size 640x480 with 1 Axes>"
      ]
     },
     "metadata": {},
     "output_type": "display_data"
    },
    {
     "name": "stdout",
     "output_type": "stream",
     "text": [
      "[(0, 860), (1, 1240), (2, 1230), (3, 1100), (4, 1250), (5, 860), (6, 1220), (7, 1370), (8, 1060), (9, 870), (10, 960), (11, 1400), (12, 1290), (13, 1370), (14, 1180), (15, 980), (16, 1510), (17, 1170), (18, 980), (19, 980), (20, 990), (21, 1590), (22, 1120), (23, 980), (24, 1010), (25, 1030), (26, 1370), (27, 1220), (28, 1250), (29, 1120), (30, 1000), (31, 1590), (32, 1270), (33, 930), (34, 1030), (35, 990), (36, 1260), (37, 1230), (38, 1120), (39, 940), (40, 810), (41, 1360), (42, 1200), (43, 1190), (44, 940), (45, 1050), (46, 1130), (47, 1340), (48, 1260), (49, 910), (50, 850), (51, 1380), (52, 1270), (53, 1180), (54, 1200), (55, 1010), (56, 1450), (57, 1410), (58, 1080), (59, 1100), (60, 1020), (61, 1570), (62, 1430), (63, 900), (64, 910), (65, 880), (66, 1420), (67, 1180), (68, 1180), (69, 1090), (70, 1010), (71, 1490), (72, 1490), (73, 1300), (74, 1200), (75, 970), (76, 1360), (77, 1260), (78, 1110), (79, 1110), (80, 830), (81, 1580), (82, 1140), (83, 1070), (84, 990), (85, 1080), (86, 1240), (87, 1090), (88, 1040), (89, 1100), (90, 830), (91, 1400), (92, 1180), (93, 1130), (94, 1070), (95, 880), (96, 1460), (97, 1300), (98, 1110), (99, 900)]\n",
      "115340\n"
     ]
    }
   ],
   "source": [
    "import os\n",
    "import joblib\n",
    "import optuna\n",
    "import statistics\n",
    "import time\n",
    "import matplotlib.pyplot as plt\n",
    "\n",
    "n_parallel = 8\n",
    "n_files = 100\n",
    "\n",
    "def objective(trial: optuna.trial.Trial):\n",
    "    temp_start = trial.suggest_float(\"temp_start\", 0, 1e5)\n",
    "    temp_end = trial.suggest_float(\"temp_end\", 0, 1e5)\n",
    "    scores = calc_scores(temp_start, temp_end)\n",
    "    return statistics.mean(scores)\n",
    "\n",
    "def calc_scores(temp_start: float, temp_end: float):\n",
    "    scores = joblib.Parallel(n_jobs = n_parallel)(\n",
    "        joblib.delayed(calc_score_each)(i, temp_start, temp_end) for i in range(n_files)\n",
    "    )\n",
    "    return scores\n",
    "\n",
    "def calc_score_each(seed: int, temp_start: float, temp_end: float):\n",
    "    in_file = f\"in/testcase_{seed:03}.txt\"\n",
    "    os.makedirs(\"tools/out\", exist_ok=True)\n",
    "    out_file = f\"out/{seed:03}.txt\"\n",
    "    os.system(f\"./exe {temp_start} {temp_end} < tools/{in_file} 1> tools/{out_file} 2> /dev/null\")\n",
    "    cmd = f\"cd tools && ./judge_exe {in_file} < {out_file} 2> /dev/null\"\n",
    "    out = os.popen(cmd)\n",
    "    #return int(out.read().split()[-1])\n",
    "    return (seed, int(out.read().split()[-1]))\n",
    "\n",
    "os.system(\"g++ -O2 -std=c++17 main.cpp -o exe\")\n",
    "scores = calc_scores(0, 0)\n",
    "values = [val for seed, val in scores]\n",
    "plt.hist(values)\n",
    "plt.show()\n",
    "print(scores)\n",
    "print(sum(values))\n"
   ]
  },
  {
   "cell_type": "code",
   "execution_count": 46,
   "metadata": {},
   "outputs": [
    {
     "name": "stdout",
     "output_type": "stream",
     "text": [
      "83568\n"
     ]
    }
   ],
   "source": []
  },
  {
   "cell_type": "code",
   "execution_count": 20,
   "metadata": {},
   "outputs": [
    {
     "name": "stderr",
     "output_type": "stream",
     "text": [
      "\u001b[32m[I 2023-04-16 16:00:57,660]\u001b[0m A new study created in RDB with name: tune_range3\u001b[0m\n",
      "\u001b[32m[I 2023-04-16 16:01:35,461]\u001b[0m Trial 0 finished with value: 1229.9 and parameters: {'p_erase': 0.7576320798707264, 'p_random_add': 0.8794149765932574}. Best is trial 0 with value: 1229.9.\u001b[0m\n",
      "\u001b[32m[I 2023-04-16 16:02:12,413]\u001b[0m Trial 1 finished with value: 1184.6 and parameters: {'p_erase': 0.4743621798632077, 'p_random_add': 0.394290911189352}. Best is trial 0 with value: 1229.9.\u001b[0m\n",
      "\u001b[32m[I 2023-04-16 16:02:49,395]\u001b[0m Trial 2 finished with value: 1194.5 and parameters: {'p_erase': 0.5124299786314663, 'p_random_add': 0.356023006569416}. Best is trial 0 with value: 1229.9.\u001b[0m\n",
      "\u001b[32m[I 2023-04-16 16:03:26,360]\u001b[0m Trial 3 finished with value: 1206.2 and parameters: {'p_erase': 0.509538466951104, 'p_random_add': 0.6262187868873657}. Best is trial 0 with value: 1229.9.\u001b[0m\n",
      "\u001b[32m[I 2023-04-16 16:04:03,356]\u001b[0m Trial 4 finished with value: 1216.3 and parameters: {'p_erase': 0.7689427053602453, 'p_random_add': 0.7261858502291305}. Best is trial 0 with value: 1229.9.\u001b[0m\n",
      "\u001b[32m[I 2023-04-16 16:04:40,325]\u001b[0m Trial 5 finished with value: 1161.5 and parameters: {'p_erase': 0.3491847664253537, 'p_random_add': 0.2628070167178034}. Best is trial 0 with value: 1229.9.\u001b[0m\n",
      "\u001b[32m[I 2023-04-16 16:05:17,345]\u001b[0m Trial 6 finished with value: 1218.4 and parameters: {'p_erase': 0.6134897139543389, 'p_random_add': 0.3794180870203713}. Best is trial 0 with value: 1229.9.\u001b[0m\n",
      "\u001b[32m[I 2023-04-16 16:05:54,350]\u001b[0m Trial 7 finished with value: 1192.0 and parameters: {'p_erase': 0.36286738789482964, 'p_random_add': 0.7707257230930538}. Best is trial 0 with value: 1229.9.\u001b[0m\n",
      "\u001b[32m[I 2023-04-16 16:06:31,375]\u001b[0m Trial 8 finished with value: 1224.3 and parameters: {'p_erase': 0.5840935369386253, 'p_random_add': 0.558285799344847}. Best is trial 0 with value: 1229.9.\u001b[0m\n",
      "\u001b[32m[I 2023-04-16 16:07:08,346]\u001b[0m Trial 9 finished with value: 1218.1 and parameters: {'p_erase': 0.8897094972596178, 'p_random_add': 0.5709149730939921}. Best is trial 0 with value: 1229.9.\u001b[0m\n",
      "\u001b[32m[I 2023-04-16 16:07:45,307]\u001b[0m Trial 10 finished with value: 1088.8 and parameters: {'p_erase': 0.06076773567461302, 'p_random_add': 0.9859141017930549}. Best is trial 0 with value: 1229.9.\u001b[0m\n",
      "\u001b[32m[I 2023-04-16 16:08:22,230]\u001b[0m Trial 11 finished with value: 1153.9 and parameters: {'p_erase': 0.9754619428722081, 'p_random_add': 0.11239795026522242}. Best is trial 0 with value: 1229.9.\u001b[0m\n",
      "\u001b[33m[W 2023-04-16 16:08:53,523]\u001b[0m Trial 12 failed with parameters: {'p_erase': 0.7338167140254442, 'p_random_add': 0.9419750571989655} because of the following error: KeyboardInterrupt().\u001b[0m\n",
      "Traceback (most recent call last):\n",
      "  File \"/home/ebata/local/.venv/lib/python3.10/site-packages/optuna/study/_optimize.py\", line 200, in _run_trial\n",
      "    value_or_values = func(trial)\n",
      "  File \"/tmp/ipykernel_15436/2676020129.py\", line 14, in objective\n",
      "    scores = calc_scores(temp_start, temp_end)\n",
      "  File \"/tmp/ipykernel_15436/2676020129.py\", line 18, in calc_scores\n",
      "    scores = joblib.Parallel(n_jobs = n_parallel)(\n",
      "  File \"/home/ebata/local/.venv/lib/python3.10/site-packages/joblib/parallel.py\", line 1098, in __call__\n",
      "    self.retrieve()\n",
      "  File \"/home/ebata/local/.venv/lib/python3.10/site-packages/joblib/parallel.py\", line 975, in retrieve\n",
      "    self._output.extend(job.get(timeout=self.timeout))\n",
      "  File \"/home/ebata/local/.venv/lib/python3.10/site-packages/joblib/_parallel_backends.py\", line 567, in wrap_future_result\n",
      "    return future.result(timeout=timeout)\n",
      "  File \"/home/ebata/local/lib/python3.10/concurrent/futures/_base.py\", line 453, in result\n",
      "    self._condition.wait(timeout)\n",
      "  File \"/home/ebata/local/lib/python3.10/threading.py\", line 320, in wait\n",
      "    waiter.acquire()\n",
      "KeyboardInterrupt\n",
      "\u001b[33m[W 2023-04-16 16:08:53,524]\u001b[0m Trial 12 failed with value None.\u001b[0m\n"
     ]
    },
    {
     "ename": "KeyboardInterrupt",
     "evalue": "",
     "output_type": "error",
     "traceback": [
      "\u001b[0;31m---------------------------------------------------------------------------\u001b[0m",
      "\u001b[0;31mKeyboardInterrupt\u001b[0m                         Traceback (most recent call last)",
      "Cell \u001b[0;32mIn[20], line 42\u001b[0m\n\u001b[1;32m     35\u001b[0m start_time \u001b[39m=\u001b[39m time\u001b[39m.\u001b[39mtime()\n\u001b[1;32m     36\u001b[0m study \u001b[39m=\u001b[39m optuna\u001b[39m.\u001b[39mcreate_study(\n\u001b[1;32m     37\u001b[0m     direction\u001b[39m=\u001b[39m\u001b[39m\"\u001b[39m\u001b[39mmaximize\u001b[39m\u001b[39m\"\u001b[39m,\n\u001b[1;32m     38\u001b[0m     storage\u001b[39m=\u001b[39m\u001b[39m\"\u001b[39m\u001b[39msqlite:///optuna.db\u001b[39m\u001b[39m\"\u001b[39m,\n\u001b[1;32m     39\u001b[0m     study_name\u001b[39m=\u001b[39m\u001b[39m\"\u001b[39m\u001b[39mtune_range3\u001b[39m\u001b[39m\"\u001b[39m,\n\u001b[1;32m     40\u001b[0m     load_if_exists\u001b[39m=\u001b[39m\u001b[39mTrue\u001b[39;00m,\n\u001b[1;32m     41\u001b[0m )\n\u001b[0;32m---> 42\u001b[0m study\u001b[39m.\u001b[39;49moptimize(objective, n_trials\u001b[39m=\u001b[39;49m\u001b[39m100\u001b[39;49m)\n\u001b[1;32m     43\u001b[0m end_time \u001b[39m=\u001b[39m time\u001b[39m.\u001b[39mtime()\n\u001b[1;32m     44\u001b[0m \u001b[39mprint\u001b[39m(\u001b[39mf\u001b[39m\u001b[39m\"\u001b[39m\u001b[39m100 trials over \u001b[39m\u001b[39m{\u001b[39;00mn_files\u001b[39m}\u001b[39;00m\u001b[39m cases takes \u001b[39m\u001b[39m{\u001b[39;00mend_time\u001b[39m \u001b[39m\u001b[39m-\u001b[39m\u001b[39m \u001b[39mstart_time\u001b[39m}\u001b[39;00m\u001b[39m seconds.\u001b[39m\u001b[39m\"\u001b[39m)\n",
      "File \u001b[0;32m~/local/.venv/lib/python3.10/site-packages/optuna/study/study.py:425\u001b[0m, in \u001b[0;36mStudy.optimize\u001b[0;34m(self, func, n_trials, timeout, n_jobs, catch, callbacks, gc_after_trial, show_progress_bar)\u001b[0m\n\u001b[1;32m    321\u001b[0m \u001b[39mdef\u001b[39;00m \u001b[39moptimize\u001b[39m(\n\u001b[1;32m    322\u001b[0m     \u001b[39mself\u001b[39m,\n\u001b[1;32m    323\u001b[0m     func: ObjectiveFuncType,\n\u001b[0;32m   (...)\u001b[0m\n\u001b[1;32m    330\u001b[0m     show_progress_bar: \u001b[39mbool\u001b[39m \u001b[39m=\u001b[39m \u001b[39mFalse\u001b[39;00m,\n\u001b[1;32m    331\u001b[0m ) \u001b[39m-\u001b[39m\u001b[39m>\u001b[39m \u001b[39mNone\u001b[39;00m:\n\u001b[1;32m    332\u001b[0m \u001b[39m    \u001b[39m\u001b[39m\"\"\"Optimize an objective function.\u001b[39;00m\n\u001b[1;32m    333\u001b[0m \n\u001b[1;32m    334\u001b[0m \u001b[39m    Optimization is done by choosing a suitable set of hyperparameter values from a given\u001b[39;00m\n\u001b[0;32m   (...)\u001b[0m\n\u001b[1;32m    422\u001b[0m \u001b[39m            If nested invocation of this method occurs.\u001b[39;00m\n\u001b[1;32m    423\u001b[0m \u001b[39m    \"\"\"\u001b[39;00m\n\u001b[0;32m--> 425\u001b[0m     _optimize(\n\u001b[1;32m    426\u001b[0m         study\u001b[39m=\u001b[39;49m\u001b[39mself\u001b[39;49m,\n\u001b[1;32m    427\u001b[0m         func\u001b[39m=\u001b[39;49mfunc,\n\u001b[1;32m    428\u001b[0m         n_trials\u001b[39m=\u001b[39;49mn_trials,\n\u001b[1;32m    429\u001b[0m         timeout\u001b[39m=\u001b[39;49mtimeout,\n\u001b[1;32m    430\u001b[0m         n_jobs\u001b[39m=\u001b[39;49mn_jobs,\n\u001b[1;32m    431\u001b[0m         catch\u001b[39m=\u001b[39;49m\u001b[39mtuple\u001b[39;49m(catch) \u001b[39mif\u001b[39;49;00m \u001b[39misinstance\u001b[39;49m(catch, Iterable) \u001b[39melse\u001b[39;49;00m (catch,),\n\u001b[1;32m    432\u001b[0m         callbacks\u001b[39m=\u001b[39;49mcallbacks,\n\u001b[1;32m    433\u001b[0m         gc_after_trial\u001b[39m=\u001b[39;49mgc_after_trial,\n\u001b[1;32m    434\u001b[0m         show_progress_bar\u001b[39m=\u001b[39;49mshow_progress_bar,\n\u001b[1;32m    435\u001b[0m     )\n",
      "File \u001b[0;32m~/local/.venv/lib/python3.10/site-packages/optuna/study/_optimize.py:66\u001b[0m, in \u001b[0;36m_optimize\u001b[0;34m(study, func, n_trials, timeout, n_jobs, catch, callbacks, gc_after_trial, show_progress_bar)\u001b[0m\n\u001b[1;32m     64\u001b[0m \u001b[39mtry\u001b[39;00m:\n\u001b[1;32m     65\u001b[0m     \u001b[39mif\u001b[39;00m n_jobs \u001b[39m==\u001b[39m \u001b[39m1\u001b[39m:\n\u001b[0;32m---> 66\u001b[0m         _optimize_sequential(\n\u001b[1;32m     67\u001b[0m             study,\n\u001b[1;32m     68\u001b[0m             func,\n\u001b[1;32m     69\u001b[0m             n_trials,\n\u001b[1;32m     70\u001b[0m             timeout,\n\u001b[1;32m     71\u001b[0m             catch,\n\u001b[1;32m     72\u001b[0m             callbacks,\n\u001b[1;32m     73\u001b[0m             gc_after_trial,\n\u001b[1;32m     74\u001b[0m             reseed_sampler_rng\u001b[39m=\u001b[39;49m\u001b[39mFalse\u001b[39;49;00m,\n\u001b[1;32m     75\u001b[0m             time_start\u001b[39m=\u001b[39;49m\u001b[39mNone\u001b[39;49;00m,\n\u001b[1;32m     76\u001b[0m             progress_bar\u001b[39m=\u001b[39;49mprogress_bar,\n\u001b[1;32m     77\u001b[0m         )\n\u001b[1;32m     78\u001b[0m     \u001b[39melse\u001b[39;00m:\n\u001b[1;32m     79\u001b[0m         \u001b[39mif\u001b[39;00m n_jobs \u001b[39m==\u001b[39m \u001b[39m-\u001b[39m\u001b[39m1\u001b[39m:\n",
      "File \u001b[0;32m~/local/.venv/lib/python3.10/site-packages/optuna/study/_optimize.py:163\u001b[0m, in \u001b[0;36m_optimize_sequential\u001b[0;34m(study, func, n_trials, timeout, catch, callbacks, gc_after_trial, reseed_sampler_rng, time_start, progress_bar)\u001b[0m\n\u001b[1;32m    160\u001b[0m         \u001b[39mbreak\u001b[39;00m\n\u001b[1;32m    162\u001b[0m \u001b[39mtry\u001b[39;00m:\n\u001b[0;32m--> 163\u001b[0m     frozen_trial \u001b[39m=\u001b[39m _run_trial(study, func, catch)\n\u001b[1;32m    164\u001b[0m \u001b[39mfinally\u001b[39;00m:\n\u001b[1;32m    165\u001b[0m     \u001b[39m# The following line mitigates memory problems that can be occurred in some\u001b[39;00m\n\u001b[1;32m    166\u001b[0m     \u001b[39m# environments (e.g., services that use computing containers such as GitHub Actions).\u001b[39;00m\n\u001b[1;32m    167\u001b[0m     \u001b[39m# Please refer to the following PR for further details:\u001b[39;00m\n\u001b[1;32m    168\u001b[0m     \u001b[39m# https://github.com/optuna/optuna/pull/325.\u001b[39;00m\n\u001b[1;32m    169\u001b[0m     \u001b[39mif\u001b[39;00m gc_after_trial:\n",
      "File \u001b[0;32m~/local/.venv/lib/python3.10/site-packages/optuna/study/_optimize.py:251\u001b[0m, in \u001b[0;36m_run_trial\u001b[0;34m(study, func, catch)\u001b[0m\n\u001b[1;32m    244\u001b[0m         \u001b[39massert\u001b[39;00m \u001b[39mFalse\u001b[39;00m, \u001b[39m\"\u001b[39m\u001b[39mShould not reach.\u001b[39m\u001b[39m\"\u001b[39m\n\u001b[1;32m    246\u001b[0m \u001b[39mif\u001b[39;00m (\n\u001b[1;32m    247\u001b[0m     frozen_trial\u001b[39m.\u001b[39mstate \u001b[39m==\u001b[39m TrialState\u001b[39m.\u001b[39mFAIL\n\u001b[1;32m    248\u001b[0m     \u001b[39mand\u001b[39;00m func_err \u001b[39mis\u001b[39;00m \u001b[39mnot\u001b[39;00m \u001b[39mNone\u001b[39;00m\n\u001b[1;32m    249\u001b[0m     \u001b[39mand\u001b[39;00m \u001b[39mnot\u001b[39;00m \u001b[39misinstance\u001b[39m(func_err, catch)\n\u001b[1;32m    250\u001b[0m ):\n\u001b[0;32m--> 251\u001b[0m     \u001b[39mraise\u001b[39;00m func_err\n\u001b[1;32m    252\u001b[0m \u001b[39mreturn\u001b[39;00m frozen_trial\n",
      "File \u001b[0;32m~/local/.venv/lib/python3.10/site-packages/optuna/study/_optimize.py:200\u001b[0m, in \u001b[0;36m_run_trial\u001b[0;34m(study, func, catch)\u001b[0m\n\u001b[1;32m    198\u001b[0m \u001b[39mwith\u001b[39;00m get_heartbeat_thread(trial\u001b[39m.\u001b[39m_trial_id, study\u001b[39m.\u001b[39m_storage):\n\u001b[1;32m    199\u001b[0m     \u001b[39mtry\u001b[39;00m:\n\u001b[0;32m--> 200\u001b[0m         value_or_values \u001b[39m=\u001b[39m func(trial)\n\u001b[1;32m    201\u001b[0m     \u001b[39mexcept\u001b[39;00m exceptions\u001b[39m.\u001b[39mTrialPruned \u001b[39mas\u001b[39;00m e:\n\u001b[1;32m    202\u001b[0m         \u001b[39m# TODO(mamu): Handle multi-objective cases.\u001b[39;00m\n\u001b[1;32m    203\u001b[0m         state \u001b[39m=\u001b[39m TrialState\u001b[39m.\u001b[39mPRUNED\n",
      "Cell \u001b[0;32mIn[20], line 14\u001b[0m, in \u001b[0;36mobjective\u001b[0;34m(trial)\u001b[0m\n\u001b[1;32m     12\u001b[0m temp_start \u001b[39m=\u001b[39m trial\u001b[39m.\u001b[39msuggest_float(\u001b[39m\"\u001b[39m\u001b[39mp_erase\u001b[39m\u001b[39m\"\u001b[39m, \u001b[39m0\u001b[39m, \u001b[39m1\u001b[39m)\n\u001b[1;32m     13\u001b[0m temp_end \u001b[39m=\u001b[39m trial\u001b[39m.\u001b[39msuggest_float(\u001b[39m\"\u001b[39m\u001b[39mp_random_add\u001b[39m\u001b[39m\"\u001b[39m, \u001b[39m0\u001b[39m, \u001b[39m1\u001b[39m)\n\u001b[0;32m---> 14\u001b[0m scores \u001b[39m=\u001b[39m calc_scores(temp_start, temp_end)\n\u001b[1;32m     15\u001b[0m \u001b[39mreturn\u001b[39;00m statistics\u001b[39m.\u001b[39mmean(scores)\n",
      "Cell \u001b[0;32mIn[20], line 18\u001b[0m, in \u001b[0;36mcalc_scores\u001b[0;34m(temp_start, temp_end)\u001b[0m\n\u001b[1;32m     17\u001b[0m \u001b[39mdef\u001b[39;00m \u001b[39mcalc_scores\u001b[39m(temp_start: \u001b[39mfloat\u001b[39m, temp_end: \u001b[39mfloat\u001b[39m):\n\u001b[0;32m---> 18\u001b[0m     scores \u001b[39m=\u001b[39m joblib\u001b[39m.\u001b[39;49mParallel(n_jobs \u001b[39m=\u001b[39;49m n_parallel)(\n\u001b[1;32m     19\u001b[0m         joblib\u001b[39m.\u001b[39;49mdelayed(calc_score_each)(i, temp_start, temp_end) \u001b[39mfor\u001b[39;49;00m i \u001b[39min\u001b[39;49;00m \u001b[39mrange\u001b[39;49m(n_files)\n\u001b[1;32m     20\u001b[0m     )\n\u001b[1;32m     21\u001b[0m     \u001b[39mreturn\u001b[39;00m scores\n",
      "File \u001b[0;32m~/local/.venv/lib/python3.10/site-packages/joblib/parallel.py:1098\u001b[0m, in \u001b[0;36mParallel.__call__\u001b[0;34m(self, iterable)\u001b[0m\n\u001b[1;32m   1095\u001b[0m     \u001b[39mself\u001b[39m\u001b[39m.\u001b[39m_iterating \u001b[39m=\u001b[39m \u001b[39mFalse\u001b[39;00m\n\u001b[1;32m   1097\u001b[0m \u001b[39mwith\u001b[39;00m \u001b[39mself\u001b[39m\u001b[39m.\u001b[39m_backend\u001b[39m.\u001b[39mretrieval_context():\n\u001b[0;32m-> 1098\u001b[0m     \u001b[39mself\u001b[39;49m\u001b[39m.\u001b[39;49mretrieve()\n\u001b[1;32m   1099\u001b[0m \u001b[39m# Make sure that we get a last message telling us we are done\u001b[39;00m\n\u001b[1;32m   1100\u001b[0m elapsed_time \u001b[39m=\u001b[39m time\u001b[39m.\u001b[39mtime() \u001b[39m-\u001b[39m \u001b[39mself\u001b[39m\u001b[39m.\u001b[39m_start_time\n",
      "File \u001b[0;32m~/local/.venv/lib/python3.10/site-packages/joblib/parallel.py:975\u001b[0m, in \u001b[0;36mParallel.retrieve\u001b[0;34m(self)\u001b[0m\n\u001b[1;32m    973\u001b[0m \u001b[39mtry\u001b[39;00m:\n\u001b[1;32m    974\u001b[0m     \u001b[39mif\u001b[39;00m \u001b[39mgetattr\u001b[39m(\u001b[39mself\u001b[39m\u001b[39m.\u001b[39m_backend, \u001b[39m'\u001b[39m\u001b[39msupports_timeout\u001b[39m\u001b[39m'\u001b[39m, \u001b[39mFalse\u001b[39;00m):\n\u001b[0;32m--> 975\u001b[0m         \u001b[39mself\u001b[39m\u001b[39m.\u001b[39m_output\u001b[39m.\u001b[39mextend(job\u001b[39m.\u001b[39;49mget(timeout\u001b[39m=\u001b[39;49m\u001b[39mself\u001b[39;49m\u001b[39m.\u001b[39;49mtimeout))\n\u001b[1;32m    976\u001b[0m     \u001b[39melse\u001b[39;00m:\n\u001b[1;32m    977\u001b[0m         \u001b[39mself\u001b[39m\u001b[39m.\u001b[39m_output\u001b[39m.\u001b[39mextend(job\u001b[39m.\u001b[39mget())\n",
      "File \u001b[0;32m~/local/.venv/lib/python3.10/site-packages/joblib/_parallel_backends.py:567\u001b[0m, in \u001b[0;36mLokyBackend.wrap_future_result\u001b[0;34m(future, timeout)\u001b[0m\n\u001b[1;32m    564\u001b[0m \u001b[39m\u001b[39m\u001b[39m\"\"\"Wrapper for Future.result to implement the same behaviour as\u001b[39;00m\n\u001b[1;32m    565\u001b[0m \u001b[39mAsyncResults.get from multiprocessing.\"\"\"\u001b[39;00m\n\u001b[1;32m    566\u001b[0m \u001b[39mtry\u001b[39;00m:\n\u001b[0;32m--> 567\u001b[0m     \u001b[39mreturn\u001b[39;00m future\u001b[39m.\u001b[39;49mresult(timeout\u001b[39m=\u001b[39;49mtimeout)\n\u001b[1;32m    568\u001b[0m \u001b[39mexcept\u001b[39;00m CfTimeoutError \u001b[39mas\u001b[39;00m e:\n\u001b[1;32m    569\u001b[0m     \u001b[39mraise\u001b[39;00m \u001b[39mTimeoutError\u001b[39;00m \u001b[39mfrom\u001b[39;00m \u001b[39me\u001b[39;00m\n",
      "File \u001b[0;32m~/local/lib/python3.10/concurrent/futures/_base.py:453\u001b[0m, in \u001b[0;36mFuture.result\u001b[0;34m(self, timeout)\u001b[0m\n\u001b[1;32m    450\u001b[0m \u001b[39melif\u001b[39;00m \u001b[39mself\u001b[39m\u001b[39m.\u001b[39m_state \u001b[39m==\u001b[39m FINISHED:\n\u001b[1;32m    451\u001b[0m     \u001b[39mreturn\u001b[39;00m \u001b[39mself\u001b[39m\u001b[39m.\u001b[39m__get_result()\n\u001b[0;32m--> 453\u001b[0m \u001b[39mself\u001b[39;49m\u001b[39m.\u001b[39;49m_condition\u001b[39m.\u001b[39;49mwait(timeout)\n\u001b[1;32m    455\u001b[0m \u001b[39mif\u001b[39;00m \u001b[39mself\u001b[39m\u001b[39m.\u001b[39m_state \u001b[39min\u001b[39;00m [CANCELLED, CANCELLED_AND_NOTIFIED]:\n\u001b[1;32m    456\u001b[0m     \u001b[39mraise\u001b[39;00m CancelledError()\n",
      "File \u001b[0;32m~/local/lib/python3.10/threading.py:320\u001b[0m, in \u001b[0;36mCondition.wait\u001b[0;34m(self, timeout)\u001b[0m\n\u001b[1;32m    318\u001b[0m \u001b[39mtry\u001b[39;00m:    \u001b[39m# restore state no matter what (e.g., KeyboardInterrupt)\u001b[39;00m\n\u001b[1;32m    319\u001b[0m     \u001b[39mif\u001b[39;00m timeout \u001b[39mis\u001b[39;00m \u001b[39mNone\u001b[39;00m:\n\u001b[0;32m--> 320\u001b[0m         waiter\u001b[39m.\u001b[39;49macquire()\n\u001b[1;32m    321\u001b[0m         gotit \u001b[39m=\u001b[39m \u001b[39mTrue\u001b[39;00m\n\u001b[1;32m    322\u001b[0m     \u001b[39melse\u001b[39;00m:\n",
      "\u001b[0;31mKeyboardInterrupt\u001b[0m: "
     ]
    }
   ],
   "source": [
    "import os\n",
    "import joblib\n",
    "import optuna\n",
    "import statistics\n",
    "import time\n",
    "import matplotlib.pyplot as plt\n",
    "\n",
    "n_parallel = 8\n",
    "n_files = 100\n",
    "\n",
    "def objective(trial: optuna.trial.Trial):\n",
    "    temp_start = trial.suggest_float(\"p_erase\", 0, 1)\n",
    "    temp_end = trial.suggest_float(\"p_random_add\", 0, 1)\n",
    "    scores = calc_scores(temp_start, temp_end)\n",
    "    return statistics.mean(scores)\n",
    "\n",
    "def calc_scores(temp_start: float, temp_end: float):\n",
    "    scores = joblib.Parallel(n_jobs = n_parallel)(\n",
    "        joblib.delayed(calc_score_each)(i, temp_start, temp_end) for i in range(n_files)\n",
    "    )\n",
    "    return scores\n",
    "\n",
    "def calc_score_each(seed: int, temp_start: float, temp_end: float):\n",
    "    in_file = f\"in/testcase_{seed:03}.txt\"\n",
    "    os.makedirs(\"tools/out\", exist_ok=True)\n",
    "    out_file = f\"out/{seed:03}.txt\"\n",
    "    os.system(f\"./exe {temp_start} {temp_end} < tools/{in_file} 1> tools/{out_file} 2> /dev/null\")\n",
    "    cmd = f\"cd tools && ./judge_exe {in_file} < {out_file} 2> /dev/null\"\n",
    "    out = os.popen(cmd)\n",
    "    return int(out.read().split()[-1])\n",
    "    #return (seed, int(out.read().split()[-1]))\n",
    "\n",
    "os.system(\"g++ -O2 -std=c++17 main.cpp -o exe -DOPTUNA\")\n",
    "\n",
    "start_time = time.time()\n",
    "study = optuna.create_study(\n",
    "    direction=\"maximize\",\n",
    "    storage=\"sqlite:///optuna.db\",\n",
    "    study_name=\"tune_range3\",\n",
    "    load_if_exists=True,\n",
    ")\n",
    "study.optimize(objective, n_trials=100)\n",
    "end_time = time.time()\n",
    "print(f\"100 trials over {n_files} cases takes {end_time - start_time} seconds.\")\n",
    "\n",
    "study = optuna.load_study(storage=\"sqlite:///ahc000.db\", study_name=\"tune_range\")\n",
    "optuna.visualization.plot_optimization_history(study)"
   ]
  },
  {
   "cell_type": "code",
   "execution_count": 1,
   "metadata": {},
   "outputs": [
    {
     "name": "stdout",
     "output_type": "stream",
     "text": [
      "1\n",
      "7\n",
      "11\n",
      "13\n",
      "17\n",
      "19\n",
      "23\n",
      "29\n",
      "31\n",
      "37\n",
      "41\n",
      "43\n",
      "47\n",
      "49\n",
      "53\n",
      "59\n"
     ]
    }
   ],
   "source": [
    "for n in range(60):\n",
    "    v = n + 1\n",
    "    if(v%2 != 0 and v%3 != 0 and v%4 != 0 and v%5 != 0):\n",
    "        print(v)"
   ]
  },
  {
   "cell_type": "code",
   "execution_count": null,
   "metadata": {},
   "outputs": [],
   "source": []
  }
 ],
 "metadata": {
  "kernelspec": {
   "display_name": ".venv",
   "language": "python",
   "name": "python3"
  },
  "language_info": {
   "codemirror_mode": {
    "name": "ipython",
    "version": 3
   },
   "file_extension": ".py",
   "mimetype": "text/x-python",
   "name": "python",
   "nbconvert_exporter": "python",
   "pygments_lexer": "ipython3",
   "version": "3.10.9"
  },
  "orig_nbformat": 4
 },
 "nbformat": 4,
 "nbformat_minor": 2
}
