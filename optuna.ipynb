{
 "cells": [
  {
   "cell_type": "code",
   "execution_count": 57,
   "metadata": {},
   "outputs": [
    {
     "data": {
      "image/png": "[encoded data removed]",
      "text/plain": [
       "<Figure size 640x480 with 1 Axes>"
      ]
     },
     "metadata": {},
     "output_type": "display_data"
    },
    {
     "name": "stdout",
     "output_type": "stream",
     "text": [
      "[(0, 460), (1, 580), (2, 580), (3, 430), (4, 380), (5, 440), (6, 640), (7, 530), (8, 340), (9, 360), (10, 4), (11, 400), (12, 430), (13, 480), (14, 390), (15, 380), (16, 580), (17, 450), (18, 400), (19, 440), (20, 350), (21, 650), (22, 370), (23, 390), (24, 470), (25, 480), (26, 580), (27, 540), (28, 290), (29, 370), (30, 410), (31, 530), (32, 390), (33, 330), (34, 400), (35, 290), (36, 470), (37, 410), (38, 360), (39, 430), (40, 370), (41, 450), (42, 420), (43, 390), (44, 320), (45, 380), (46, 510), (47, 480), (48, 430), (49, 450), (50, 4), (51, 400), (52, 470), (53, 570), (54, 410), (55, 390), (56, 550), (57, 530), (58, 460), (59, 330), (60, 5), (61, 550), (62, 430), (63, 330), (64, 400), (65, 320), (66, 480), (67, 390), (68, 490), (69, 310), (70, 350), (71, 520), (72, 590), (73, 440), (74, 360), (75, 380), (76, 570), (77, 360), (78, 370), (79, 360), (80, 290), (81, 490), (82, 480), (83, 410), (84, 370), (85, 2), (86, 280), (87, 440), (88, 380), (89, 450), (90, 390), (91, 550), (92, 590), (93, 480), (94, 420), (95, 320), (96, 410), (97, 460), (98, 500), (99, 380)]\n",
      "41615\n"
     ]
    }
   ],
   "source": [
    "import os\n",
    "import joblib\n",
    "import optuna\n",
    "import statistics\n",
    "import time\n",
    "import matplotlib.pyplot as plt\n",
    "\n",
    "n_parallel = 8\n",
    "n_files = 100\n",
    "\n",
    "def objective(trial: optuna.trial.Trial):\n",
    "    temp_start = trial.suggest_float(\"temp_start\", 0, 1e5)\n",
    "    temp_end = trial.suggest_float(\"temp_end\", 0, 1e5)\n",
    "    scores = calc_scores(temp_start, temp_end)\n",
    "    return statistics.mean(scores)\n",
    "\n",
    "def calc_scores(temp_start: float, temp_end: float):\n",
    "    scores = joblib.Parallel(n_jobs = n_parallel)(\n",
    "        joblib.delayed(calc_score_each)(i, temp_start, temp_end) for i in range(n_files)\n",
    "    )\n",
    "    return scores\n",
    "\n",
    "def calc_score_each(seed: int, temp_start: float, temp_end: float):\n",
    "    in_file = f\"in/testcase_{seed:03}.txt\"\n",
    "    os.makedirs(\"tools/out\", exist_ok=True)\n",
    "    out_file = f\"out/{seed:03}.txt\"\n",
    "    os.system(f\"./exe {temp_start} {temp_end} < tools/{in_file} 1> tools/{out_file} 2> /dev/null\")\n",
    "    cmd = f\"cd tools && ./judge_exe {in_file} < {out_file} 2> /dev/null\"\n",
    "    out = os.popen(cmd)\n",
    "    #return int(out.read().split()[-1])\n",
    "    return (seed, int(out.read().split()[-1]))\n",
    "\n",
    "os.system(\"g++ -O2 -std=c++17 main.cpp -o exe -DOPTUNA\")\n",
    "scores = calc_scores(0, 0)\n",
    "values = [val for seed, val in scores]\n",
    "plt.hist(values)\n",
    "plt.show()\n",
    "print(scores)\n",
    "print(sum(values))\n"
   ]
  },
  {
   "cell_type": "code",
   "execution_count": 46,
   "metadata": {},
   "outputs": [
    {
     "name": "stdout",
     "output_type": "stream",
     "text": [
      "83568\n"
     ]
    }
   ],
   "source": []
  },
  {
   "cell_type": "code",
   "execution_count": 52,
   "metadata": {},
   "outputs": [
    {
     "ename": "KeyError",
     "evalue": "'Record does not exist.'",
     "output_type": "error",
     "traceback": [
      "\u001b[0;31m---------------------------------------------------------------------------\u001b[0m",
      "\u001b[0;31mKeyError\u001b[0m                                  Traceback (most recent call last)",
      "Cell \u001b[0;32mIn[52], line 1\u001b[0m\n\u001b[0;32m----> 1\u001b[0m study \u001b[39m=\u001b[39m optuna\u001b[39m.\u001b[39;49mload_study(storage\u001b[39m=\u001b[39;49m\u001b[39m\"\u001b[39;49m\u001b[39msqlite:///ahc000.db\u001b[39;49m\u001b[39m\"\u001b[39;49m, study_name\u001b[39m=\u001b[39;49m\u001b[39m\"\u001b[39;49m\u001b[39mtune_range\u001b[39;49m\u001b[39m\"\u001b[39;49m)\n\u001b[1;32m      2\u001b[0m optuna\u001b[39m.\u001b[39mvisualization\u001b[39m.\u001b[39mplot_optimization_history(study)\n",
      "File \u001b[0;32m~/local/.venv/lib/python3.10/site-packages/optuna/_convert_positional_args.py:63\u001b[0m, in \u001b[0;36mconvert_positional_args.<locals>.converter_decorator.<locals>.converter_wrapper\u001b[0;34m(*args, **kwargs)\u001b[0m\n\u001b[1;32m     58\u001b[0m         \u001b[39mraise\u001b[39;00m \u001b[39mTypeError\u001b[39;00m(\n\u001b[1;32m     59\u001b[0m             \u001b[39mf\u001b[39m\u001b[39m\"\u001b[39m\u001b[39m{\u001b[39;00mfunc\u001b[39m.\u001b[39m\u001b[39m__name__\u001b[39m\u001b[39m}\u001b[39;00m\u001b[39m() got multiple values for argument \u001b[39m\u001b[39m'\u001b[39m\u001b[39m{\u001b[39;00marg_name\u001b[39m}\u001b[39;00m\u001b[39m'\u001b[39m\u001b[39m.\u001b[39m\u001b[39m\"\u001b[39m\n\u001b[1;32m     60\u001b[0m         )\n\u001b[1;32m     61\u001b[0m     kwargs[arg_name] \u001b[39m=\u001b[39m val\n\u001b[0;32m---> 63\u001b[0m \u001b[39mreturn\u001b[39;00m func(\u001b[39m*\u001b[39;49m\u001b[39m*\u001b[39;49mkwargs)\n",
      "File \u001b[0;32m~/local/.venv/lib/python3.10/site-packages/optuna/study/study.py:1260\u001b[0m, in \u001b[0;36mload_study\u001b[0;34m(study_name, storage, sampler, pruner)\u001b[0m\n\u001b[1;32m   1254\u001b[0m     study_name \u001b[39m=\u001b[39m study_summaries[\u001b[39m0\u001b[39m]\u001b[39m.\u001b[39mstudy_name\n\u001b[1;32m   1255\u001b[0m     _logger\u001b[39m.\u001b[39minfo(\n\u001b[1;32m   1256\u001b[0m         \u001b[39mf\u001b[39m\u001b[39m\"\u001b[39m\u001b[39mStudy name was omitted but trying to load \u001b[39m\u001b[39m'\u001b[39m\u001b[39m{\u001b[39;00mstudy_name\u001b[39m}\u001b[39;00m\u001b[39m'\u001b[39m\u001b[39m because that was the only \u001b[39m\u001b[39m\"\u001b[39m\n\u001b[1;32m   1257\u001b[0m         \u001b[39m\"\u001b[39m\u001b[39mstudy found in the storage.\u001b[39m\u001b[39m\"\u001b[39m\n\u001b[1;32m   1258\u001b[0m     )\n\u001b[0;32m-> 1260\u001b[0m \u001b[39mreturn\u001b[39;00m Study(study_name\u001b[39m=\u001b[39;49mstudy_name, storage\u001b[39m=\u001b[39;49mstorage, sampler\u001b[39m=\u001b[39;49msampler, pruner\u001b[39m=\u001b[39;49mpruner)\n",
      "File \u001b[0;32m~/local/.venv/lib/python3.10/site-packages/optuna/study/study.py:82\u001b[0m, in \u001b[0;36mStudy.__init__\u001b[0;34m(self, study_name, storage, sampler, pruner)\u001b[0m\n\u001b[1;32m     80\u001b[0m \u001b[39mself\u001b[39m\u001b[39m.\u001b[39mstudy_name \u001b[39m=\u001b[39m study_name\n\u001b[1;32m     81\u001b[0m storage \u001b[39m=\u001b[39m storages\u001b[39m.\u001b[39mget_storage(storage)\n\u001b[0;32m---> 82\u001b[0m study_id \u001b[39m=\u001b[39m storage\u001b[39m.\u001b[39;49mget_study_id_from_name(study_name)\n\u001b[1;32m     83\u001b[0m \u001b[39mself\u001b[39m\u001b[39m.\u001b[39m_study_id \u001b[39m=\u001b[39m study_id\n\u001b[1;32m     84\u001b[0m \u001b[39mself\u001b[39m\u001b[39m.\u001b[39m_storage \u001b[39m=\u001b[39m storage\n",
      "File \u001b[0;32m~/local/.venv/lib/python3.10/site-packages/optuna/storages/_cached_storage.py:136\u001b[0m, in \u001b[0;36m_CachedStorage.get_study_id_from_name\u001b[0;34m(self, study_name)\u001b[0m\n\u001b[1;32m    134\u001b[0m \u001b[39mdef\u001b[39;00m \u001b[39mget_study_id_from_name\u001b[39m(\u001b[39mself\u001b[39m, study_name: \u001b[39mstr\u001b[39m) \u001b[39m-\u001b[39m\u001b[39m>\u001b[39m \u001b[39mint\u001b[39m:\n\u001b[0;32m--> 136\u001b[0m     \u001b[39mreturn\u001b[39;00m \u001b[39mself\u001b[39;49m\u001b[39m.\u001b[39;49m_backend\u001b[39m.\u001b[39;49mget_study_id_from_name(study_name)\n",
      "File \u001b[0;32m~/local/.venv/lib/python3.10/site-packages/optuna/storages/_rdb/storage.py:335\u001b[0m, in \u001b[0;36mRDBStorage.get_study_id_from_name\u001b[0;34m(self, study_name)\u001b[0m\n\u001b[1;32m    332\u001b[0m \u001b[39mdef\u001b[39;00m \u001b[39mget_study_id_from_name\u001b[39m(\u001b[39mself\u001b[39m, study_name: \u001b[39mstr\u001b[39m) \u001b[39m-\u001b[39m\u001b[39m>\u001b[39m \u001b[39mint\u001b[39m:\n\u001b[1;32m    334\u001b[0m     \u001b[39mwith\u001b[39;00m _create_scoped_session(\u001b[39mself\u001b[39m\u001b[39m.\u001b[39mscoped_session) \u001b[39mas\u001b[39;00m session:\n\u001b[0;32m--> 335\u001b[0m         study \u001b[39m=\u001b[39m models\u001b[39m.\u001b[39;49mStudyModel\u001b[39m.\u001b[39;49mfind_or_raise_by_name(study_name, session)\n\u001b[1;32m    336\u001b[0m         study_id \u001b[39m=\u001b[39m study\u001b[39m.\u001b[39mstudy_id\n\u001b[1;32m    338\u001b[0m     \u001b[39mreturn\u001b[39;00m study_id\n",
      "File \u001b[0;32m~/local/.venv/lib/python3.10/site-packages/optuna/storages/_rdb/models.py:83\u001b[0m, in \u001b[0;36mStudyModel.find_or_raise_by_name\u001b[0;34m(cls, study_name, session)\u001b[0m\n\u001b[1;32m     81\u001b[0m study \u001b[39m=\u001b[39m \u001b[39mcls\u001b[39m\u001b[39m.\u001b[39mfind_by_name(study_name, session)\n\u001b[1;32m     82\u001b[0m \u001b[39mif\u001b[39;00m study \u001b[39mis\u001b[39;00m \u001b[39mNone\u001b[39;00m:\n\u001b[0;32m---> 83\u001b[0m     \u001b[39mraise\u001b[39;00m \u001b[39mKeyError\u001b[39;00m(NOT_FOUND_MSG)\n\u001b[1;32m     85\u001b[0m \u001b[39mreturn\u001b[39;00m study\n",
      "\u001b[0;31mKeyError\u001b[0m: 'Record does not exist.'"
     ]
    }
   ],
   "source": [
    "start_time = time.time()\n",
    "study = optuna.create_study(\n",
    "    direction=\"maximize\",\n",
    "    storage=\"sqlite:///optuna.db\",\n",
    "    study_name=\"tune_range\",\n",
    "    load_if_exists=True,\n",
    ")\n",
    "study.optimize(objective, n_trials=100)\n",
    "end_time = time.time()\n",
    "print(f\"100 trials over {n_files} cases takes {end_time - start_time} seconds.\")\n",
    "\n",
    "study = optuna.load_study(storage=\"sqlite:///ahc000.db\", study_name=\"tune_range\")\n",
    "optuna.visualization.plot_optimization_history(study)"
   ]
  },
  {
   "cell_type": "code",
   "execution_count": null,
   "metadata": {},
   "outputs": [],
   "source": []
  }
 ],
 "metadata": {
  "kernelspec": {
   "display_name": ".venv",
   "language": "python",
   "name": "python3"
  },
  "language_info": {
   "codemirror_mode": {
    "name": "ipython",
    "version": 3
   },
   "file_extension": ".py",
   "mimetype": "text/x-python",
   "name": "python",
   "nbconvert_exporter": "python",
   "pygments_lexer": "ipython3",
   "version": "3.10.9"
  },
  "orig_nbformat": 4
 },
 "nbformat": 4,
 "nbformat_minor": 2
}
